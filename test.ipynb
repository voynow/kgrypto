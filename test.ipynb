{
 "cells": [
  {
   "cell_type": "code",
   "execution_count": 1,
   "metadata": {},
   "outputs": [
    {
     "data": {
      "text/plain": [
       "['API_KEY',\n",
       " 'BASE',\n",
       " 'client',\n",
       " 'get_aggs',\n",
       " 'get_daily_open_close_agg',\n",
       " 'get_ema',\n",
       " 'get_exchanges',\n",
       " 'get_grouped_daily_aggs',\n",
       " 'get_last_crypto_trade',\n",
       " 'get_last_forex_quote',\n",
       " 'get_last_quote',\n",
       " 'get_last_trade',\n",
       " 'get_macd',\n",
       " 'get_market_holidays',\n",
       " 'get_market_status',\n",
       " 'get_options_contract',\n",
       " 'get_previous_close_agg',\n",
       " 'get_real_time_currency_conversion',\n",
       " 'get_related_companies',\n",
       " 'get_rsi',\n",
       " 'get_sma',\n",
       " 'get_snapshot_all',\n",
       " 'get_snapshot_crypto_book',\n",
       " 'get_snapshot_direction',\n",
       " 'get_snapshot_indices',\n",
       " 'get_snapshot_option',\n",
       " 'get_snapshot_ticker',\n",
       " 'get_summaries',\n",
       " 'get_ticker_details',\n",
       " 'get_ticker_events',\n",
       " 'get_ticker_types',\n",
       " 'headers',\n",
       " 'json',\n",
       " 'list_aggs',\n",
       " 'list_conditions',\n",
       " 'list_dividends',\n",
       " 'list_options_contracts',\n",
       " 'list_quotes',\n",
       " 'list_snapshot_options_chain',\n",
       " 'list_splits',\n",
       " 'list_ticker_news',\n",
       " 'list_tickers',\n",
       " 'list_trades',\n",
       " 'list_universal_snapshots',\n",
       " 'retries',\n",
       " 'time_mult',\n",
       " 'timeout',\n",
       " 'trace',\n",
       " 'vx']"
      ]
     },
     "execution_count": 1,
     "metadata": {},
     "output_type": "execute_result"
    }
   ],
   "source": [
    "from polygon import RESTClient\n",
    "import os\n",
    "\n",
    "client = RESTClient(api_key=os.environ[\"POLYGON_API_KEY\"])\n",
    "\n",
    "[item for item in dir(client) if not item.startswith(\"_\")]"
   ]
  },
  {
   "cell_type": "code",
   "execution_count": null,
   "metadata": {},
   "outputs": [],
   "source": []
  },
  {
   "cell_type": "code",
   "execution_count": 2,
   "metadata": {},
   "outputs": [],
   "source": [
    "import pickle\n",
    "\n",
    "tickers = pickle.load(open(\"all_tickers.pkl\", \"rb\"))\n"
   ]
  },
  {
   "cell_type": "code",
   "execution_count": null,
   "metadata": {},
   "outputs": [],
   "source": []
  },
  {
   "cell_type": "code",
   "execution_count": null,
   "metadata": {},
   "outputs": [],
   "source": []
  }
 ],
 "metadata": {
  "kernelspec": {
   "display_name": ".venv",
   "language": "python",
   "name": "python3"
  },
  "language_info": {
   "codemirror_mode": {
    "name": "ipython",
    "version": 3
   },
   "file_extension": ".py",
   "mimetype": "text/x-python",
   "name": "python",
   "nbconvert_exporter": "python",
   "pygments_lexer": "ipython3",
   "version": "3.12.8"
  }
 },
 "nbformat": 4,
 "nbformat_minor": 2
}
